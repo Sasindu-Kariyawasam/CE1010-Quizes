{
  "nbformat": 4,
  "nbformat_minor": 0,
  "metadata": {
    "colab": {
      "provenance": [],
      "include_colab_link": true
    },
    "kernelspec": {
      "name": "python3",
      "display_name": "Python 3"
    },
    "language_info": {
      "name": "python"
    }
  },
  "cells": [
    {
      "cell_type": "markdown",
      "metadata": {
        "id": "view-in-github",
        "colab_type": "text"
      },
      "source": [
        "<a href=\"https://colab.research.google.com/github/Sasindu-Kariyawasam/CE1010-Quizes/blob/main/Skill_Assessment_Quiz_on_Getting_Started.ipynb\" target=\"_parent\"><img src=\"https://colab.research.google.com/assets/colab-badge.svg\" alt=\"Open In Colab\"/></a>"
      ]
    },
    {
      "cell_type": "markdown",
      "source": [
        "## Question 01"
      ],
      "metadata": {
        "id": "WV1h9LBxVHoy"
      }
    },
    {
      "cell_type": "code",
      "source": [],
      "metadata": {
        "id": "gRzeaCkloo6B"
      },
      "execution_count": null,
      "outputs": []
    },
    {
      "cell_type": "code",
      "execution_count": null,
      "metadata": {
        "colab": {
          "base_uri": "https://localhost:8080/"
        },
        "id": "HRfij-asSrRN",
        "outputId": "8c807e38-c54f-4076-ca66-6c04b1720f89"
      },
      "outputs": [
        {
          "output_type": "stream",
          "name": "stdout",
          "text": [
            "Solution for alpha: [0.454545454545455]\n"
          ]
        }
      ],
      "source": [
        "from sympy import symbols, Eq, solve, I\n",
        "\n",
        "# Define symbols\n",
        "s, alpha = symbols('s alpha')\n",
        "\n",
        "# LHS & RHS of the equation\n",
        "lhs = 1 / (s**2 + 1.1**2)\n",
        "rhs = (I * alpha) / (s + I * 1.1) - (I * alpha) / (s - I * 1.1)\n",
        "\n",
        "# Creating equation\n",
        "equation = Eq(lhs, rhs)\n",
        "\n",
        "# Solve\n",
        "alpha_solution = solve(equation, alpha)\n",
        "\n",
        "print(f\"Solution for alpha: {alpha_solution}\")"
      ]
    },
    {
      "cell_type": "markdown",
      "source": [
        "## Question 02"
      ],
      "metadata": {
        "id": "AGK3TyBWVLcN"
      }
    },
    {
      "cell_type": "code",
      "source": [
        "# Define symbols\n",
        "x = symbols('x')\n",
        "zeta = 1.4\n",
        "omega_n = 2.1\n",
        "\n",
        "# Defining equation\n",
        "equation = x**2 + 2 * zeta * omega_n * x + omega_n**2\n",
        "\n",
        "# Solve\n",
        "roots = solve(equation, x)\n",
        "\n",
        "# Taking the Largest root\n",
        "largest_root = max(roots)\n",
        "\n",
        "print(f\"Largest root: {largest_root}\")"
      ],
      "metadata": {
        "colab": {
          "base_uri": "https://localhost:8080/"
        },
        "id": "MnFBzlBfVMvr",
        "outputId": "b90c35f5-ea33-4a5a-f1fb-e2bc0c66f24b"
      },
      "execution_count": null,
      "outputs": [
        {
          "output_type": "stream",
          "name": "stdout",
          "text": [
            "Largest root: -0.882428616062130\n"
          ]
        }
      ]
    },
    {
      "cell_type": "markdown",
      "source": [
        "## Question 03"
      ],
      "metadata": {
        "id": "BbKCk5ZeW_7S"
      }
    },
    {
      "cell_type": "code",
      "source": [
        "from sympy import apart, sqrt # apart: To Partial fraction decomposition\n",
        "\n",
        "# Assigning symbols\n",
        "s, alpha = symbols('s alpha')\n",
        "\n",
        "zeta = 0.12\n",
        "omega_n = 9\n",
        "\n",
        "# Defining equation\n",
        "G_s = 1 / (s**2 + 2 * zeta * omega_n * s + omega_n**2)\n",
        "\n",
        "# Partial fraction decomposition\n",
        "pe = apart(G_s, full=True).doit()\n",
        "\n",
        "print(pe)"
      ],
      "metadata": {
        "colab": {
          "base_uri": "https://localhost:8080/"
        },
        "id": "lRKcAF_LWfjx",
        "outputId": "63af51b2-016e-4036-ff6d-f563bd1f6f7b"
      },
      "execution_count": null,
      "outputs": [
        {
          "output_type": "stream",
          "name": "stdout",
          "text": [
            "0.0559599280573181*I/(s + 1.08 + 8.93496502511342*I) - 0.0559599280573181*I/(s + 1.08 - 8.93496502511342*I)\n"
          ]
        }
      ]
    },
    {
      "cell_type": "markdown",
      "source": [
        "$\\frac{iα}{s+p}-\\frac{iα}{s+\\overline{p}} = \\frac{0.0867094531467188i}{s+3.604 + 5.76638396224185i}-\\frac{0.0867094531467188i}{s+3.604 - 5.76638396224185i} $ \\\\\n",
        "$\\therefore\\alpha = 0.0867094531467188$"
      ],
      "metadata": {
        "id": "7HHBkgCGgxjW"
      }
    },
    {
      "cell_type": "markdown",
      "source": [
        "## Question 04"
      ],
      "metadata": {
        "id": "-g0dczzWjR11"
      }
    },
    {
      "cell_type": "code",
      "source": [
        "from sympy import sqrt\n",
        "import sympy\n",
        "\n",
        "# Define vector A & B\n",
        "A = sympy.Matrix([0.7,1.7,-1.7])\n",
        "B = sympy.Matrix([1,-0.6,0.1])\n",
        "\n",
        "# Taking cross product\n",
        "result = A.cross(B)\n",
        "\n",
        "# Retrieving i,j,k values of the result\n",
        "i = result[0]\n",
        "j = result[1]\n",
        "k = result[2]\n",
        "\n",
        "# Calculating the area\n",
        "Area = sqrt(i**2 + j**2 + k**2)\n",
        "\n",
        "print(Area)\n"
      ],
      "metadata": {
        "colab": {
          "base_uri": "https://localhost:8080/"
        },
        "id": "nFQPUxOJY--X",
        "outputId": "b7442067-7d2b-4c17-df96-99d73545a696"
      },
      "execution_count": null,
      "outputs": [
        {
          "output_type": "stream",
          "name": "stdout",
          "text": [
            "2.88960204872574\n"
          ]
        }
      ]
    },
    {
      "cell_type": "markdown",
      "source": [
        "## Question 05"
      ],
      "metadata": {
        "id": "YL5Z4--anBrt"
      }
    },
    {
      "cell_type": "markdown",
      "source": [
        "Eigenvalues\n",
        "\n",
        "$\\lambda_1 = \\omega_n \\left( -\\zeta - \\sqrt{\\zeta - 1}\\sqrt{\\zeta + 1} \\right)$\n",
        "\n",
        "$\\lambda_2 = \\omega_n \\left( -\\zeta + \\sqrt{\\zeta - 1}\\sqrt{\\zeta + 1} \\right)$\n",
        "\n",
        "Eigenvectors\n",
        "\n",
        "The eigenvector corresponding to $\\lambda_1$ is:\n",
        "\n",
        "$v_1 =\\begin{bmatrix}2\\zeta\\omega_n + \\omega_n \\left( -\\zeta - \\sqrt{\\zeta - 1}\\sqrt{\\zeta + 1} \\right) \\\\1\\end{bmatrix}$\n",
        "\n",
        "The eigenvector corresponding to $\\lambda_2$ is:\n",
        "\n",
        "$v_2 =\\begin{bmatrix}2\\zeta\\omega_n + \\omega_n \\left( -\\zeta + \\sqrt{\\zeta - 1}\\sqrt{\\zeta + 1} \\right) \\\\1\\end{bmatrix}$"
      ],
      "metadata": {
        "id": "dwlCm0GYnGb8"
      }
    },
    {
      "cell_type": "code",
      "source": [],
      "metadata": {
        "id": "ZIiuwsfemEVQ"
      },
      "execution_count": null,
      "outputs": []
    }
  ]
}